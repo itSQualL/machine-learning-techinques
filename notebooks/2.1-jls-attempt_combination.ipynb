{
 "cells": [
  {
   "cell_type": "markdown",
   "metadata": {},
   "source": [
    "# Loading data."
   ]
  },
  {
   "cell_type": "code",
   "execution_count": 1,
   "metadata": {
    "collapsed": true
   },
   "outputs": [],
   "source": [
    "import pandas as pd"
   ]
  },
  {
   "cell_type": "markdown",
   "metadata": {},
   "source": [
    "# Combination of the two dataframes"
   ]
  },
  {
   "cell_type": "code",
   "execution_count": 26,
   "metadata": {},
   "outputs": [
    {
     "name": "stderr",
     "output_type": "stream",
     "text": [
      "/home/juls/anaconda3/lib/python3.6/site-packages/IPython/core/interactiveshell.py:2698: DtypeWarning: Columns (34) have mixed types. Specify dtype option on import or set low_memory=False.\n",
      "  interactivity=interactivity, compiler=compiler, result=result)\n"
     ]
    },
    {
     "data": {
      "text/html": [
       "<div>\n",
       "<style scoped>\n",
       "    .dataframe tbody tr th:only-of-type {\n",
       "        vertical-align: middle;\n",
       "    }\n",
       "\n",
       "    .dataframe tbody tr th {\n",
       "        vertical-align: top;\n",
       "    }\n",
       "\n",
       "    .dataframe thead th {\n",
       "        text-align: right;\n",
       "    }\n",
       "</style>\n",
       "<table border=\"1\" class=\"dataframe\">\n",
       "  <thead>\n",
       "    <tr style=\"text-align: right;\">\n",
       "      <th></th>\n",
       "      <th>UUID</th>\n",
       "      <th>ActionType</th>\n",
       "      <th>SessionType</th>\n",
       "    </tr>\n",
       "  </thead>\n",
       "  <tbody>\n",
       "    <tr>\n",
       "      <th>0</th>\n",
       "      <td>59.302117</td>\n",
       "      <td>Sending Data</td>\n",
       "      <td>malicious</td>\n",
       "    </tr>\n",
       "    <tr>\n",
       "      <th>1</th>\n",
       "      <td>54.539017</td>\n",
       "      <td>malicious</td>\n",
       "      <td>malicious</td>\n",
       "    </tr>\n",
       "    <tr>\n",
       "      <th>2</th>\n",
       "      <td>57.771583</td>\n",
       "      <td>benign</td>\n",
       "      <td>malicious</td>\n",
       "    </tr>\n",
       "    <tr>\n",
       "      <th>3</th>\n",
       "      <td>53.137317</td>\n",
       "      <td>benign</td>\n",
       "      <td>malicious</td>\n",
       "    </tr>\n",
       "    <tr>\n",
       "      <th>4</th>\n",
       "      <td>11.162367</td>\n",
       "      <td>Sending Data</td>\n",
       "      <td>malicious</td>\n",
       "    </tr>\n",
       "    <tr>\n",
       "      <th>5</th>\n",
       "      <td>42.065517</td>\n",
       "      <td>malicious</td>\n",
       "      <td>malicious</td>\n",
       "    </tr>\n",
       "  </tbody>\n",
       "</table>\n",
       "</div>"
      ],
      "text/plain": [
       "        UUID    ActionType SessionType\n",
       "0  59.302117  Sending Data   malicious\n",
       "1  54.539017     malicious   malicious\n",
       "2  57.771583        benign   malicious\n",
       "3  53.137317        benign   malicious\n",
       "4  11.162367  Sending Data   malicious\n",
       "5  42.065517     malicious   malicious"
      ]
     },
     "execution_count": 26,
     "metadata": {},
     "output_type": "execute_result"
    }
   ],
   "source": [
    "# Reading files and change UUID units\n",
    "df1 = pd.read_csv(\"/home/juls/Escritorio/T4.csv\")\n",
    "df1['UUID'] = ((df1['UUID']/(1000*60))%60)\n",
    "df2 = pd.read_csv(\"/home/juls/Escritorio/Moriarty.csv\", usecols=list(range(8)))\n",
    "df2['UUID'] = ((df2['UUID']/(1000*60))%60)\n",
    "\n",
    "\n",
    "# Chosing the UUID column of the file T4.csv\n",
    "df1_ncolumns = df1.filter(regex='(UUID)', axis=1)\n",
    "\n",
    "# Chosing ActionType and SessionType columns of the file T4.csv\n",
    "df2_columns = df2.filter(regex='(UUID|ActionType|SessionType)', axis=1)\n",
    "\n",
    "# Merge two files\n",
    "data = pd.merge(df1_ncolumns,df2_columns, on=['UUID'])\n",
    "data\n",
    "#df2Filter = pd.concat([df2UUID, df2ActionType], axis=1)\n",
    "\n",
    "\n",
    "                   "
   ]
  },
  {
   "cell_type": "markdown",
   "metadata": {},
   "source": [
    "# Filtering."
   ]
  }
 ],
 "metadata": {
  "kernelspec": {
   "display_name": "Python 3",
   "language": "python",
   "name": "python3"
  },
  "language_info": {
   "codemirror_mode": {
    "name": "ipython",
    "version": 3
   },
   "file_extension": ".py",
   "mimetype": "text/x-python",
   "name": "python",
   "nbconvert_exporter": "python",
   "pygments_lexer": "ipython3",
   "version": "3.6.3"
  }
 },
 "nbformat": 4,
 "nbformat_minor": 2
}
