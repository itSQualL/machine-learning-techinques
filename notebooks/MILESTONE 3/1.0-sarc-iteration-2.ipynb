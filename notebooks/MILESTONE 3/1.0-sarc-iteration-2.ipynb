{
 "cells": [
  {
   "cell_type": "markdown",
   "metadata": {},
   "source": [
    "# 0. Loading data."
   ]
  },
  {
   "cell_type": "markdown",
   "metadata": {},
   "source": [
    "## 0.1 Reading CSVs"
   ]
  },
  {
   "cell_type": "code",
   "execution_count": 12,
   "metadata": {},
   "outputs": [
    {
     "name": "stderr",
     "output_type": "stream",
     "text": [
      "/home/itsquall/anaconda3/lib/python3.6/site-packages/IPython/core/interactiveshell.py:2785: DtypeWarning: Columns (34) have mixed types. Specify dtype option on import or set low_memory=False.\n",
      "  interactivity=interactivity, compiler=compiler, result=result)\n"
     ]
    }
   ],
   "source": [
    "import pandas as pd\n",
    "\n",
    "df = pd.read_csv(\"../../data/source/Moriartyred.csv\",\n",
    "                  usecols=[\"UUID\",\"ActionType\"])\n",
    "\n",
    "df2 = pd.read_csv(\"/home/itsquall/Descargas/T4.csv\", \n",
    "                  usecols=['UUID', 'CPU_0', 'CPU_1', 'CPU_2', 'CPU_3', 'Traffic_TotalRxBytes',\n",
    "       'Traffic_TotalTxBytes',\n",
    "       'Traffic_TotalTxPackets', 'Traffic_TotalWifiRxBytes',\n",
    "       'Traffic_TotalWifiRxPackets', 'Traffic_TotalWifiTxBytes',\n",
    "       'Traffic_TotalWifiTxPackets', 'Battery_current_avg', 'Battery_health',\n",
    "       'Battery_level', 'Battery_online', 'Battery_plugged', 'Battery_present',\n",
    "       'Battery_scale', 'Battery_status', 'Battery_temperature',\n",
    "       'Battery_voltage', 'MemTotal', 'MemFree', 'Buffers'])\n"
   ]
  },
  {
   "cell_type": "markdown",
   "metadata": {},
   "source": [
    "## 0.2 Merging datasets by UUID"
   ]
  },
  {
   "cell_type": "code",
   "execution_count": 13,
   "metadata": {},
   "outputs": [],
   "source": [
    "df['UUID'] = pd.to_datetime(df['UUID'], unit=\"ms\")\n",
    "df['UUID'] = df['UUID'].dt.round('t')\n",
    "\n",
    "\n",
    "df2['UUID'] = pd.to_datetime(df['UUID'], unit=\"ms\")\n",
    "df2['UUID'] = df['UUID'].dt.round('t')\n",
    "\n",
    "data = pd.merge(df,df2, on=['UUID'])"
   ]
  },
  {
   "cell_type": "markdown",
   "metadata": {},
   "source": [
    "## 0.3 Replacing and cleaning data"
   ]
  },
  {
   "cell_type": "code",
   "execution_count": 14,
   "metadata": {},
   "outputs": [],
   "source": [
    "data['ActionType'] = data['ActionType'].replace(['malicious'], 1)\n",
    "data['ActionType'] = data['ActionType'].replace(['benign'], 0)\n",
    "y = data['ActionType']\n",
    "\n",
    "data = data.drop('UUID', 1)\n",
    "data = data.drop('ActionType', 1)"
   ]
  },
  {
   "cell_type": "markdown",
   "metadata": {},
   "source": [
    "# 1. Principal Component Analysis"
   ]
  },
  {
   "cell_type": "markdown",
   "metadata": {},
   "source": [
    "## 1.1. Scalation"
   ]
  },
  {
   "cell_type": "code",
   "execution_count": 6,
   "metadata": {},
   "outputs": [],
   "source": [
    "from sklearn import preprocessing\n",
    "scaler = preprocessing.StandardScaler()\n",
    "datanorm = scaler.fit_transform(data)"
   ]
  },
  {
   "cell_type": "markdown",
   "metadata": {},
   "source": [
    "## 1.2 Modelling (PCA)"
   ]
  },
  {
   "cell_type": "code",
   "execution_count": 7,
   "metadata": {},
   "outputs": [
    {
     "name": "stdout",
     "output_type": "stream",
     "text": [
      "[0.28443482 0.45159281 0.58935699 0.70984932 0.7732553  0.82682327\n",
      " 0.87210232 0.91177916 0.94358338 0.97324863 0.99219339 0.99764723]\n"
     ]
    }
   ],
   "source": [
    "from sklearn.decomposition import PCA\n",
    "n_components = 12\n",
    "estimator = PCA(n_components)\n",
    "X_pca = estimator.fit_transform(datanorm)\n",
    "\n",
    "print(estimator.explained_variance_ratio_.cumsum())"
   ]
  },
  {
   "cell_type": "markdown",
   "metadata": {},
   "source": [
    "## 1.3 Plotting (PCA)"
   ]
  },
  {
   "cell_type": "code",
   "execution_count": 8,
   "metadata": {},
   "outputs": [
    {
     "data": {
      "text/plain": [
       "<Figure size 640x480 with 2 Axes>"
      ]
     },
     "metadata": {},
     "output_type": "display_data"
    }
   ],
   "source": [
    "import numpy\n",
    "import matplotlib.pyplot as plt\n",
    "from mpl_toolkits.mplot3d import Axes3D\n",
    "\n",
    "n_components = 2\n",
    "estimator_plot = PCA(n_components)\n",
    "X_pca_plot = estimator.fit_transform(datanorm)\n",
    "\n",
    "fig = plt.figure()\n",
    "plt.scatter(X_pca_plot[:, 0], X_pca_plot[:, 1], c=y.values)\n",
    "ax = Axes3D(fig)\n",
    "x_pca = X_pca_plot[:,0]\n",
    "y_pca = X_pca_plot[:,1]\n",
    "z_pca = X_pca_plot[:,2]\n",
    "ax.scatter(x_pca,y_pca,z_pca, c=y.values)\n",
    "plt.show()"
   ]
  },
  {
   "cell_type": "markdown",
   "metadata": {},
   "source": [
    "# 2. Training Model (KNN)"
   ]
  },
  {
   "cell_type": "code",
   "execution_count": 9,
   "metadata": {},
   "outputs": [],
   "source": [
    "from sklearn.metrics import accuracy_score\n",
    "from sklearn import neighbors\n",
    "from matplotlib.colors import ListedColormap\n",
    "from sklearn.model_selection import train_test_split\n",
    "X_train, X_test, y_train, y_test = train_test_split(X_pca, y, test_size=0.3)"
   ]
  },
  {
   "cell_type": "code",
   "execution_count": 10,
   "metadata": {},
   "outputs": [],
   "source": [
    "# Create color maps\n",
    "from matplotlib.colors import ListedColormap\n",
    "\n",
    "cmap_light = ListedColormap(['#FFAAAA', '#AAFFAA', '#AAAAFF'])\n",
    "cmap_bold = ListedColormap(['#FF0000', '#00FF00', '#0000FF'])"
   ]
  },
  {
   "cell_type": "code",
   "execution_count": 11,
   "metadata": {},
   "outputs": [
    {
     "name": "stdout",
     "output_type": "stream",
     "text": [
      "92.3076923076923\n",
      "92.3076923076923\n"
     ]
    }
   ],
   "source": [
    "from sklearn import neighbors\n",
    "\n",
    "for weights in ['uniform', 'distance']:\n",
    "    n_neighbors = 1\n",
    "    # Instance of Neighbours Classifier and fit the data.\n",
    "    clf = neighbors.KNeighborsClassifier(n_neighbors, weights=weights)\n",
    "    clf.fit(X_train,y_train)\n",
    "    \n",
    "    \n",
    "    \n",
    "    y_pred = clf.predict(X_test)\n",
    "    \n",
    "    \n",
    "    print(accuracy_score(y_test, y_pred)*100)"
   ]
  }
 ],
 "metadata": {
  "kernelspec": {
   "display_name": "Python 3",
   "language": "python",
   "name": "python3"
  },
  "language_info": {
   "codemirror_mode": {
    "name": "ipython",
    "version": 3
   },
   "file_extension": ".py",
   "mimetype": "text/x-python",
   "name": "python",
   "nbconvert_exporter": "python",
   "pygments_lexer": "ipython3",
   "version": "3.6.5"
  }
 },
 "nbformat": 4,
 "nbformat_minor": 2
}
